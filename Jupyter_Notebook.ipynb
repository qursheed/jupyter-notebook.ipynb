{
 "cells": [
  {
   "cell_type": "markdown",
   "metadata": {},
   "source": [
    "<center>\n",
    "    <img src=\"https://cf-courses-data.s3.us.cloud-object-storage.appdomain.cloud/IBMDeveloperSkillsNetwork-DS0105EN-SkillsNetwork/labs/Module2/images/SN_web_lightmode.png\" width=\"300\" alt=\"cognitiveclass.ai logo\">\n",
    "</center>\n"
   ]
  },
  {
   "cell_type": "markdown",
   "metadata": {
    "tags": []
   },
   "source": [
    "#### Add your code below following the instructions given in the course"
   ]
  },
  {
   "cell_type": "code",
   "execution_count": 6,
   "metadata": {
    "tags": []
   },
   "outputs": [],
   "source": [
    "#data science tools and ecosystem"
   ]
  },
  {
   "cell_type": "code",
   "execution_count": 7,
   "metadata": {
    "tags": []
   },
   "outputs": [],
   "source": [
    "##introduction"
   ]
  },
  {
   "cell_type": "code",
   "execution_count": 8,
   "metadata": {
    "tags": []
   },
   "outputs": [
    {
     "ename": "SyntaxError",
     "evalue": "invalid syntax (240357972.py, line 3)",
     "output_type": "error",
     "traceback": [
      "\u001b[0;36m  File \u001b[0;32m\"/tmp/ipykernel_68/240357972.py\"\u001b[0;36m, line \u001b[0;32m3\u001b[0m\n\u001b[0;31m    The field of data science encompasses a wide range of tools and technologies that enable data scientists to extract insights from data. Let's explore some of the key components of the data science ecosystem:\u001b[0m\n\u001b[0m            ^\u001b[0m\n\u001b[0;31mSyntaxError\u001b[0m\u001b[0;31m:\u001b[0m invalid syntax\n"
     ]
    }
   ],
   "source": [
    "## Data Science Tools and Ecosystem\n",
    "\n",
    "The field of data science encompasses a wide range of tools and technologies that enable data scientists to extract insights from data. Let's explore some of the key components of the data science ecosystem:\n",
    "\n",
    "- **Programming Languages**: Data scientists often use programming languages like Python, R, and Scala for data analysis, manipulation, and modeling.\n",
    "\n",
    "- **Libraries and Packages**: There are numerous libraries and packages available in these programming languages that provide specialized functionality for tasks such as data visualization, machine learning, and statistical analysis.\n",
    "\n",
    "- **Data Sets**: Data scientists work with various types of data sets, including structured, unstructured, and semi-structured data. These data sets can be sourced from various domains and industries.\n",
    "\n",
    "- **Machine Learning Models**: Machine learning models are used to make predictions and derive insights from data. These models can be trained on historical data and then applied to new data for making predictions.\n",
    "\n",
    "- **Jupyter Notebook and JupyterLab**: Jupyter Notebook is a popular tool that allows data scientists to create and share documents containing live code, equations, visualizations, and narrative text. JupyterLab is the next version of Jupyter Notebook, offering a more modern and modular interface.\n",
    "\n",
    "- **RStudio**: RStudio is an integrated development environment (IDE) specifically designed for R programming. It provides a range of features for data analysis, visualization, and package management.\n",
    "\n",
    "- **GitHub**: GitHub is a web-based platform for version control and collaboration. Data scientists use GitHub to store and share their code, collaborate with others, and track changes to their projects.\n",
    "\n",
    "These are just a few examples of the tools and components that make up the data science ecosystem. Throughout this course, we will dive deeper into each of these areas and explore how they are used in real-world data science projects.\n",
    "\n",
    "Let's continue our journey and explore the fascinating world of data science tools and techniques!"
   ]
  },
  {
   "cell_type": "code",
   "execution_count": 14,
   "metadata": {
    "tags": []
   },
   "outputs": [],
   "source": [
    "##data science languages"
   ]
  },
  {
   "cell_type": "markdown",
   "metadata": {
    "tags": []
   },
   "source": [
    "## Data Science Tools and Ecosystem\n",
    "\n",
    "The field of data science encompasses a wide range of tools and technologies that enable data scientists to extract insights from data. Let's explore some of the key components of the data science ecosystem:\n",
    "\n",
    "- **Programming Languages**: Data scientists often use programming languages like Python, R, and Scala for data analysis, manipulation, and modeling.\n",
    "\n",
    "- **Libraries and Packages**: There are numerous libraries and packages available in these programming languages that provide specialized functionality for tasks such as data visualization, machine learning, and statistical analysis.\n",
    "\n",
    "- **Data Sets**: Data scientists work with various types of data sets, including structured, unstructured, and semi-structured data. These data sets can be sourced from various domains and industries.\n",
    "\n",
    "- **Machine Learning Models**: Machine learning models are used to make predictions and derive insights from data. These models can be trained on historical data and then applied to new data for making predictions.\n",
    "\n",
    "- **Jupyter Notebook and JupyterLab**: Jupyter Notebook is a popular tool that allows data scientists to create and share documents containing live code, equations, visualizations, and narrative text. JupyterLab is the next version of Jupyter Notebook, offering a more modern and modular interface.\n",
    "\n",
    "- **RStudio**: RStudio is an integrated development environment (IDE) specifically designed for R programming. It provides a range of features for data analysis, visualization, and package management.\n",
    "\n",
    "- **GitHub**: GitHub is a web-based platform for version control and collaboration. Data scientists use GitHub to store and share their code, collaborate with others, and track changes to their projects.\n",
    "\n",
    "These are just a few examples of the tools and components that make up the data science ecosystem. Throughout this course, we will dive deeper into each of these areas and explore how they are used in real-world data science projects.\n",
    "\n",
    "Let's continue our journey and explore the fascinating world of data science tools and techniques!"
   ]
  },
  {
   "cell_type": "code",
   "execution_count": 15,
   "metadata": {
    "tags": []
   },
   "outputs": [
    {
     "ename": "SyntaxError",
     "evalue": "invalid syntax (91705583.py, line 3)",
     "output_type": "error",
     "traceback": [
      "\u001b[0;36m  File \u001b[0;32m\"/tmp/ipykernel_68/91705583.py\"\u001b[0;36m, line \u001b[0;32m3\u001b[0m\n\u001b[0;31m    The field of data science encompasses a wide range of tools and technologies that enable data scientists to extract insights from data. Let's explore some of the key components of the data science ecosystem:\u001b[0m\n\u001b[0m            ^\u001b[0m\n\u001b[0;31mSyntaxError\u001b[0m\u001b[0;31m:\u001b[0m invalid syntax\n"
     ]
    }
   ],
   "source": [
    "##data science libraries\n",
    "\n",
    "The field of data science encompasses a wide range of tools and technologies that enable data scientists to extract insights from data. Let's explore some of the key components of the data science ecosystem:\n",
    "\n",
    "- **Programming Languages**: Data scientists often use programming languages like Python, R, and Scala for data analysis, manipulation, and modeling.\n",
    "\n",
    "- **Libraries and Packages**: There are numerous libraries and packages available in these programming languages that provide specialized functionality for tasks such as data visualization, machine learning, and statistical analysis.\n",
    "\n",
    "- **Data Sets**: Data scientists work with various types of data sets, including structured, unstructured, and semi-structured data. These data sets can be sourced from various domains and industries.\n",
    "\n",
    "- **Machine Learning Models**: Machine learning models are used to make predictions and derive insights from data. These models can be trained on historical data and then applied to new data for making predictions.\n",
    "\n",
    "- **Jupyter Notebook and JupyterLab**: Jupyter Notebook is a popular tool that allows data scientists to create and share documents containing live code, equations, visualizations, and narrative text. JupyterLab is the next version of Jupyter Notebook, offering a more modern and modular interface.\n",
    "\n",
    "- **RStudio**: RStudio is an integrated development environment (IDE) specifically designed for R programming. It provides a range of features for data analysis, visualization, and package management.\n",
    "\n",
    "- **GitHub**: GitHub is a web-based platform for version control and collaboration. Data scientists use GitHub to store and share their code, collaborate with others, and track changes to their projects.\n",
    "\n",
    "These are just a few examples of the tools and components that make up the data science ecosystem. Throughout this course, we will dive deeper into each of these areas and explore how they are used in real-world data science projects.\n",
    "\n",
    "Let's continue our journey and explore the fascinating world of data science tools and techniques!"
   ]
  },
  {
   "cell_type": "code",
   "execution_count": 16,
   "metadata": {
    "tags": []
   },
   "outputs": [
    {
     "ename": "SyntaxError",
     "evalue": "invalid syntax (1199026548.py, line 1)",
     "output_type": "error",
     "traceback": [
      "\u001b[0;36m  File \u001b[0;32m\"/tmp/ipykernel_68/1199026548.py\"\u001b[0;36m, line \u001b[0;32m1\u001b[0m\n\u001b[0;31m    **numpy**-fundamental package for numerical computation\u001b[0m\n\u001b[0m     ^\u001b[0m\n\u001b[0;31mSyntaxError\u001b[0m\u001b[0;31m:\u001b[0m invalid syntax\n"
     ]
    }
   ],
   "source": [
    "**numpy**-fundamental package for numerical computation "
   ]
  },
  {
   "cell_type": "code",
   "execution_count": 17,
   "metadata": {
    "tags": []
   },
   "outputs": [
    {
     "ename": "SyntaxError",
     "evalue": "invalid syntax (1287672851.py, line 1)",
     "output_type": "error",
     "traceback": [
      "\u001b[0;36m  File \u001b[0;32m\"/tmp/ipykernel_68/1287672851.py\"\u001b[0;36m, line \u001b[0;32m1\u001b[0m\n\u001b[0;31m    **pandas**-\"python library for data science along with numpy in matplotlib\".\u001b[0m\n\u001b[0m     ^\u001b[0m\n\u001b[0;31mSyntaxError\u001b[0m\u001b[0;31m:\u001b[0m invalid syntax\n"
     ]
    }
   ],
   "source": [
    "**pandas**-\"python library for data science along with numpy in matplotlib\"."
   ]
  },
  {
   "cell_type": "markdown",
   "metadata": {},
   "source": [
    "**matplotlib**-\"powerful yet beautiful visualization\".\n",
    "**keras**-\"extensively for deep learning neural network modules\".\n",
    "**scikit-learn**-\"a machine learning algorithms designed to interpolated into numpy and scipy\"."
   ]
  },
  {
   "cell_type": "code",
   "execution_count": 19,
   "metadata": {
    "tags": []
   },
   "outputs": [],
   "source": [
    "##data science tools"
   ]
  },
  {
   "cell_type": "code",
   "execution_count": 20,
   "metadata": {
    "tags": []
   },
   "outputs": [
    {
     "ename": "SyntaxError",
     "evalue": "invalid syntax (2617593589.py, line 3)",
     "output_type": "error",
     "traceback": [
      "\u001b[0;36m  File \u001b[0;32m\"/tmp/ipykernel_68/2617593589.py\"\u001b[0;36m, line \u001b[0;32m3\u001b[0m\n\u001b[0;31m    jupyter notebook\u001b[0m\n\u001b[0m                   ^\u001b[0m\n\u001b[0;31mSyntaxError\u001b[0m\u001b[0;31m:\u001b[0m invalid syntax\n"
     ]
    }
   ],
   "source": [
    "github\n",
    "git\n",
    "jupyter notebook\n",
    "r studio\n",
    "watson studio"
   ]
  },
  {
   "cell_type": "markdown",
   "metadata": {},
   "source": [
    "##arthmetic expression "
   ]
  },
  {
   "cell_type": "code",
   "execution_count": 22,
   "metadata": {
    "tags": []
   },
   "outputs": [
    {
     "ename": "SyntaxError",
     "evalue": "invalid syntax (2001345544.py, line 1)",
     "output_type": "error",
     "traceback": [
      "\u001b[0;36m  File \u001b[0;32m\"/tmp/ipykernel_68/2001345544.py\"\u001b[0;36m, line \u001b[0;32m1\u001b[0m\n\u001b[0;31m    \"addition\":+\u001b[0m\n\u001b[0m                ^\u001b[0m\n\u001b[0;31mSyntaxError\u001b[0m\u001b[0;31m:\u001b[0m invalid syntax\n"
     ]
    }
   ],
   "source": [
    "\"addition\":+"
   ]
  },
  {
   "cell_type": "markdown",
   "metadata": {},
   "source": [
    "\"substraction\":-"
   ]
  },
  {
   "cell_type": "code",
   "execution_count": 23,
   "metadata": {
    "tags": []
   },
   "outputs": [
    {
     "ename": "SyntaxError",
     "evalue": "invalid syntax (188378940.py, line 1)",
     "output_type": "error",
     "traceback": [
      "\u001b[0;36m  File \u001b[0;32m\"/tmp/ipykernel_68/188378940.py\"\u001b[0;36m, line \u001b[0;32m1\u001b[0m\n\u001b[0;31m    \"multiplication\":*\u001b[0m\n\u001b[0m                     ^\u001b[0m\n\u001b[0;31mSyntaxError\u001b[0m\u001b[0;31m:\u001b[0m invalid syntax\n"
     ]
    }
   ],
   "source": [
    "\"multiplication\":*"
   ]
  },
  {
   "cell_type": "markdown",
   "metadata": {},
   "source": [
    "#addition\n",
    "result=5+3"
   ]
  },
  {
   "cell_type": "code",
   "execution_count": null,
   "metadata": {},
   "outputs": [],
   "source": [
    "print(result)"
   ]
  },
  {
   "cell_type": "markdown",
   "metadata": {
    "tags": []
   },
   "source": [
    "output:8"
   ]
  },
  {
   "cell_type": "markdown",
   "metadata": {},
   "source": [
    "##multiplication"
   ]
  },
  {
   "cell_type": "code",
   "execution_count": 26,
   "metadata": {
    "tags": []
   },
   "outputs": [],
   "source": [
    "result=(3*4)+5"
   ]
  },
  {
   "cell_type": "code",
   "execution_count": 27,
   "metadata": {
    "tags": []
   },
   "outputs": [
    {
     "name": "stdout",
     "output_type": "stream",
     "text": [
      "17\n"
     ]
    }
   ],
   "source": [
    "print(result)"
   ]
  },
  {
   "cell_type": "markdown",
   "metadata": {},
   "source": [
    "##code cell to convert minutes to hours"
   ]
  },
  {
   "cell_type": "code",
   "execution_count": 28,
   "metadata": {
    "tags": []
   },
   "outputs": [],
   "source": [
    "minutes=200"
   ]
  },
  {
   "cell_type": "code",
   "execution_count": 29,
   "metadata": {
    "tags": []
   },
   "outputs": [],
   "source": [
    "hours=minutes/60"
   ]
  },
  {
   "cell_type": "code",
   "execution_count": 30,
   "metadata": {
    "tags": []
   },
   "outputs": [
    {
     "name": "stdout",
     "output_type": "stream",
     "text": [
      "3.3333333333333335\n"
     ]
    }
   ],
   "source": [
    "print(hours)"
   ]
  },
  {
   "cell_type": "markdown",
   "metadata": {},
   "source": [
    "##objectives"
   ]
  },
  {
   "cell_type": "code",
   "execution_count": 31,
   "metadata": {
    "tags": []
   },
   "outputs": [],
   "source": [
    "##popular tools used in datascience"
   ]
  },
  {
   "cell_type": "code",
   "execution_count": 32,
   "metadata": {
    "tags": []
   },
   "outputs": [
    {
     "ename": "SyntaxError",
     "evalue": "invalid syntax (1949279690.py, line 1)",
     "output_type": "error",
     "traceback": [
      "\u001b[0;36m  File \u001b[0;32m\"/tmp/ipykernel_68/1949279690.py\"\u001b[0;36m, line \u001b[0;32m1\u001b[0m\n\u001b[0;31m    \"how to work with jupyternotebookwith thier features and limitations\".\u001b[0m\n\u001b[0m                                                                          ^\u001b[0m\n\u001b[0;31mSyntaxError\u001b[0m\u001b[0;31m:\u001b[0m invalid syntax\n"
     ]
    }
   ],
   "source": [
    "\"how to work with jupyternotebookwith thier features and limitations\"."
   ]
  },
  {
   "cell_type": "code",
   "execution_count": 33,
   "metadata": {
    "tags": []
   },
   "outputs": [
    {
     "ename": "SyntaxError",
     "evalue": "invalid syntax (3137258718.py, line 1)",
     "output_type": "error",
     "traceback": [
      "\u001b[0;36m  File \u001b[0;32m\"/tmp/ipykernel_68/3137258718.py\"\u001b[0;36m, line \u001b[0;32m1\u001b[0m\n\u001b[0;31m    abshow to use r studio IDEand github\u001b[0m\n\u001b[0m            ^\u001b[0m\n\u001b[0;31mSyntaxError\u001b[0m\u001b[0;31m:\u001b[0m invalid syntax\n"
     ]
    }
   ],
   "source": [
    "abshow to use r studio IDEand github"
   ]
  },
  {
   "cell_type": "markdown",
   "metadata": {},
   "source": [
    "##author"
   ]
  },
  {
   "cell_type": "code",
   "execution_count": 34,
   "metadata": {
    "tags": []
   },
   "outputs": [
    {
     "ename": "SyntaxError",
     "evalue": "invalid syntax (1013855527.py, line 1)",
     "output_type": "error",
     "traceback": [
      "\u001b[0;36m  File \u001b[0;32m\"/tmp/ipykernel_68/1013855527.py\"\u001b[0;36m, line \u001b[0;32m1\u001b[0m\n\u001b[0;31m    \"course was created by Aije egwaikhide\".\u001b[0m\n\u001b[0m                                            ^\u001b[0m\n\u001b[0;31mSyntaxError\u001b[0m\u001b[0;31m:\u001b[0m invalid syntax\n"
     ]
    }
   ],
   "source": [
    "\"course was created by Aije egwaikhide\"."
   ]
  },
  {
   "cell_type": "code",
   "execution_count": 35,
   "metadata": {
    "tags": []
   },
   "outputs": [
    {
     "ename": "SyntaxError",
     "evalue": "invalid syntax (412716035.py, line 1)",
     "output_type": "error",
     "traceback": [
      "\u001b[0;36m  File \u001b[0;32m\"/tmp/ipykernel_68/412716035.py\"\u001b[0;36m, line \u001b[0;32m1\u001b[0m\n\u001b[0;31m    \"svetlana levitan\".\u001b[0m\n\u001b[0m                       ^\u001b[0m\n\u001b[0;31mSyntaxError\u001b[0m\u001b[0;31m:\u001b[0m invalid syntax\n"
     ]
    }
   ],
   "source": [
    "\"svetlana levitan\"."
   ]
  },
  {
   "cell_type": "code",
   "execution_count": null,
   "metadata": {},
   "outputs": [],
   "source": []
  }
 ],
 "metadata": {
  "kernelspec": {
   "display_name": "Python",
   "language": "python",
   "name": "conda-env-python-py"
  },
  "language_info": {
   "codemirror_mode": {
    "name": "ipython",
    "version": 3
   },
   "file_extension": ".py",
   "mimetype": "text/x-python",
   "name": "python",
   "nbconvert_exporter": "python",
   "pygments_lexer": "ipython3",
   "version": "3.7.12"
  }
 },
 "nbformat": 4,
 "nbformat_minor": 4
}
